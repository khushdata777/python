{
 "cells": [
  {
   "cell_type": "code",
   "execution_count": 8,
   "id": "13a61c69",
   "metadata": {},
   "outputs": [
    {
     "name": "stdout",
     "output_type": "stream",
     "text": [
      "[3, 5, 6.7, 7.9, 'hello', 'hi', 'hi']\n"
     ]
    }
   ],
   "source": [
    "lst = [3, 5, 6.7 , 7.9 ,\"hello\",\"hi\", \"hi\"]\n",
    "print(lst)"
   ]
  },
  {
   "cell_type": "code",
   "execution_count": 2,
   "id": "4794c9b0",
   "metadata": {},
   "outputs": [
    {
     "data": {
      "text/plain": [
       "[3, 5, 6.7, 7.9, 'hello', 'hi']"
      ]
     },
     "execution_count": 2,
     "metadata": {},
     "output_type": "execute_result"
    }
   ],
   "source": [
    "lst"
   ]
  },
  {
   "cell_type": "code",
   "execution_count": 4,
   "id": "6af73442",
   "metadata": {},
   "outputs": [
    {
     "name": "stdout",
     "output_type": "stream",
     "text": [
      "7.9\n"
     ]
    }
   ],
   "source": [
    "print(lst[3])"
   ]
  },
  {
   "cell_type": "code",
   "execution_count": 5,
   "id": "75393204",
   "metadata": {},
   "outputs": [
    {
     "name": "stdout",
     "output_type": "stream",
     "text": [
      "3\n",
      "5\n",
      "6.7\n",
      "7.9\n",
      "hello\n"
     ]
    }
   ],
   "source": [
    "print(lst[0])\n",
    "print(lst[1])\n",
    "print(lst[2])\n",
    "print(lst[3])\n",
    "print(lst[4])"
   ]
  },
  {
   "cell_type": "code",
   "execution_count": 9,
   "id": "ea175373",
   "metadata": {},
   "outputs": [
    {
     "name": "stdout",
     "output_type": "stream",
     "text": [
      "7\n"
     ]
    }
   ],
   "source": [
    "print(len(lst))"
   ]
  },
  {
   "cell_type": "code",
   "execution_count": 10,
   "id": "776cae4c",
   "metadata": {},
   "outputs": [
    {
     "name": "stdout",
     "output_type": "stream",
     "text": [
      "<class 'list'>\n"
     ]
    }
   ],
   "source": [
    "print(type(lst))"
   ]
  },
  {
   "cell_type": "code",
   "execution_count": 14,
   "id": "4261e155",
   "metadata": {},
   "outputs": [
    {
     "name": "stdout",
     "output_type": "stream",
     "text": [
      "hello\n"
     ]
    }
   ],
   "source": [
    "print(lst[-3])"
   ]
  },
  {
   "cell_type": "code",
   "execution_count": 18,
   "id": "5f810fae",
   "metadata": {},
   "outputs": [
    {
     "name": "stdout",
     "output_type": "stream",
     "text": [
      "[3, 5, 6.7, 7.9, 'hello', 'hi', 'hi']\n"
     ]
    }
   ],
   "source": [
    "print(lst[:])"
   ]
  },
  {
   "cell_type": "code",
   "execution_count": 21,
   "id": "813a9126",
   "metadata": {},
   "outputs": [
    {
     "name": "stdout",
     "output_type": "stream",
     "text": [
      "['orange', 'kiwi', 'grapes', 'watermelon', 6.9]\n"
     ]
    }
   ],
   "source": [
    "lt = [\"orange\",\"kiwi\",\"hello\", 5 , 6.9]\n",
    "lt[2:4] = [\"grapes\",\"watermelon\"]\n",
    "print(lt)"
   ]
  },
  {
   "cell_type": "code",
   "execution_count": 22,
   "id": "4e52d998",
   "metadata": {},
   "outputs": [
    {
     "name": "stdout",
     "output_type": "stream",
     "text": [
      "['orange', 'kiwi', 'grapes', 'watermelon', 6.9, 'welcome']\n"
     ]
    }
   ],
   "source": [
    "lt.append(\"welcome\")\n",
    "print(lt)"
   ]
  },
  {
   "cell_type": "code",
   "execution_count": null,
   "id": "5b84416d",
   "metadata": {},
   "outputs": [],
   "source": []
  }
 ],
 "metadata": {
  "kernelspec": {
   "display_name": "Python 3 (ipykernel)",
   "language": "python",
   "name": "python3"
  },
  "language_info": {
   "codemirror_mode": {
    "name": "ipython",
    "version": 3
   },
   "file_extension": ".py",
   "mimetype": "text/x-python",
   "name": "python",
   "nbconvert_exporter": "python",
   "pygments_lexer": "ipython3",
   "version": "3.9.12"
  }
 },
 "nbformat": 4,
 "nbformat_minor": 5
}
