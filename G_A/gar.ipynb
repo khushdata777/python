{
 "cells": [
  {
   "cell_type": "code",
   "execution_count": 1,
   "id": "0da6d952",
   "metadata": {},
   "outputs": [
    {
     "name": "stdout",
     "output_type": "stream",
     "text": [
      "Requirement already satisfied: datascience in c:\\users\\tops\\appdata\\roaming\\python\\python39\\site-packages (0.17.5)\n",
      "Requirement already satisfied: scipy in c:\\users\\tops\\anaconda3\\lib\\site-packages (from datascience) (1.7.3)\n",
      "Requirement already satisfied: ipython in c:\\users\\tops\\anaconda3\\lib\\site-packages (from datascience) (8.2.0)\n",
      "Requirement already satisfied: folium>=0.9.1 in c:\\users\\tops\\appdata\\roaming\\python\\python39\\site-packages (from datascience) (0.12.1.post1)\n",
      "Requirement already satisfied: pandas in c:\\users\\tops\\anaconda3\\lib\\site-packages (from datascience) (1.4.2)\n",
      "Requirement already satisfied: setuptools in c:\\users\\tops\\anaconda3\\lib\\site-packages (from datascience) (61.2.0)\n",
      "Requirement already satisfied: branca in c:\\users\\tops\\appdata\\roaming\\python\\python39\\site-packages (from datascience) (0.5.0)\n",
      "Requirement already satisfied: numpy in c:\\users\\tops\\anaconda3\\lib\\site-packages (from datascience) (1.21.5)\n",
      "Requirement already satisfied: plotly in c:\\users\\tops\\anaconda3\\lib\\site-packages (from datascience) (5.6.0)\n",
      "Requirement already satisfied: matplotlib>=3.0.0 in c:\\users\\tops\\anaconda3\\lib\\site-packages (from datascience) (3.5.1)\n",
      "Requirement already satisfied: jinja2>=2.9 in c:\\users\\tops\\anaconda3\\lib\\site-packages (from folium>=0.9.1->datascience) (2.11.3)\n",
      "Requirement already satisfied: requests in c:\\users\\tops\\anaconda3\\lib\\site-packages (from folium>=0.9.1->datascience) (2.27.1)\n",
      "Requirement already satisfied: MarkupSafe>=0.23 in c:\\users\\tops\\anaconda3\\lib\\site-packages (from jinja2>=2.9->folium>=0.9.1->datascience) (2.0.1)\n",
      "Requirement already satisfied: packaging>=20.0 in c:\\users\\tops\\anaconda3\\lib\\site-packages (from matplotlib>=3.0.0->datascience) (21.3)\n",
      "Requirement already satisfied: pyparsing>=2.2.1 in c:\\users\\tops\\anaconda3\\lib\\site-packages (from matplotlib>=3.0.0->datascience) (3.0.4)\n",
      "Requirement already satisfied: cycler>=0.10 in c:\\users\\tops\\anaconda3\\lib\\site-packages (from matplotlib>=3.0.0->datascience) (0.11.0)\n",
      "Requirement already satisfied: fonttools>=4.22.0 in c:\\users\\tops\\anaconda3\\lib\\site-packages (from matplotlib>=3.0.0->datascience) (4.25.0)\n",
      "Requirement already satisfied: python-dateutil>=2.7 in c:\\users\\tops\\anaconda3\\lib\\site-packages (from matplotlib>=3.0.0->datascience) (2.8.2)\n",
      "Requirement already satisfied: pillow>=6.2.0 in c:\\users\\tops\\anaconda3\\lib\\site-packages (from matplotlib>=3.0.0->datascience) (9.0.1)\n",
      "Requirement already satisfied: kiwisolver>=1.0.1 in c:\\users\\tops\\anaconda3\\lib\\site-packages (from matplotlib>=3.0.0->datascience) (1.3.2)\n",
      "Requirement already satisfied: six>=1.5 in c:\\users\\tops\\anaconda3\\lib\\site-packages (from python-dateutil>=2.7->matplotlib>=3.0.0->datascience) (1.16.0)\n",
      "Requirement already satisfied: decorator in c:\\users\\tops\\anaconda3\\lib\\site-packages (from ipython->datascience) (5.1.1)\n",
      "Requirement already satisfied: prompt-toolkit!=3.0.0,!=3.0.1,<3.1.0,>=2.0.0 in c:\\users\\tops\\anaconda3\\lib\\site-packages (from ipython->datascience) (3.0.20)\n",
      "Requirement already satisfied: matplotlib-inline in c:\\users\\tops\\anaconda3\\lib\\site-packages (from ipython->datascience) (0.1.2)\n",
      "Requirement already satisfied: pygments>=2.4.0 in c:\\users\\tops\\anaconda3\\lib\\site-packages (from ipython->datascience) (2.11.2)\n",
      "Requirement already satisfied: stack-data in c:\\users\\tops\\anaconda3\\lib\\site-packages (from ipython->datascience) (0.2.0)\n",
      "Requirement already satisfied: pickleshare in c:\\users\\tops\\anaconda3\\lib\\site-packages (from ipython->datascience) (0.7.5)\n",
      "Requirement already satisfied: jedi>=0.16 in c:\\users\\tops\\anaconda3\\lib\\site-packages (from ipython->datascience) (0.18.1)\n",
      "Requirement already satisfied: colorama in c:\\users\\tops\\anaconda3\\lib\\site-packages (from ipython->datascience) (0.4.4)\n",
      "Requirement already satisfied: traitlets>=5 in c:\\users\\tops\\anaconda3\\lib\\site-packages (from ipython->datascience) (5.1.1)\n",
      "Requirement already satisfied: backcall in c:\\users\\tops\\anaconda3\\lib\\site-packages (from ipython->datascience) (0.2.0)\n",
      "Requirement already satisfied: parso<0.9.0,>=0.8.0 in c:\\users\\tops\\anaconda3\\lib\\site-packages (from jedi>=0.16->ipython->datascience) (0.8.3)\n",
      "Requirement already satisfied: wcwidth in c:\\users\\tops\\anaconda3\\lib\\site-packages (from prompt-toolkit!=3.0.0,!=3.0.1,<3.1.0,>=2.0.0->ipython->datascience) (0.2.5)\n",
      "Requirement already satisfied: pytz>=2020.1 in c:\\users\\tops\\anaconda3\\lib\\site-packages (from pandas->datascience) (2021.3)\n",
      "Requirement already satisfied: tenacity>=6.2.0 in c:\\users\\tops\\anaconda3\\lib\\site-packages (from plotly->datascience) (8.0.1)\n",
      "Requirement already satisfied: urllib3<1.27,>=1.21.1 in c:\\users\\tops\\anaconda3\\lib\\site-packages (from requests->folium>=0.9.1->datascience) (1.26.9)\n",
      "Requirement already satisfied: certifi>=2017.4.17 in c:\\users\\tops\\anaconda3\\lib\\site-packages (from requests->folium>=0.9.1->datascience) (2021.10.8)\n",
      "Requirement already satisfied: idna<4,>=2.5 in c:\\users\\tops\\anaconda3\\lib\\site-packages (from requests->folium>=0.9.1->datascience) (3.3)\n",
      "Requirement already satisfied: charset-normalizer~=2.0.0 in c:\\users\\tops\\anaconda3\\lib\\site-packages (from requests->folium>=0.9.1->datascience) (2.0.4)\n",
      "Requirement already satisfied: pure-eval in c:\\users\\tops\\anaconda3\\lib\\site-packages (from stack-data->ipython->datascience) (0.2.2)\n",
      "Requirement already satisfied: asttokens in c:\\users\\tops\\anaconda3\\lib\\site-packages (from stack-data->ipython->datascience) (2.0.5)\n",
      "Requirement already satisfied: executing in c:\\users\\tops\\anaconda3\\lib\\site-packages (from stack-data->ipython->datascience) (0.8.3)\n"
     ]
    }
   ],
   "source": [
    "!pip install --user datascience"
   ]
  },
  {
   "cell_type": "code",
   "execution_count": 3,
   "id": "bf8923fb",
   "metadata": {},
   "outputs": [],
   "source": [
    "from datascience import *\n",
    "import numpy as np\n",
    "\n",
    "%matplotlib inline\n",
    "import matplotlib.pyplot as plots\n",
    "plots.style.use('fivethirtyeight')\n",
    "import warnings\n",
    "warnings.simplefilter(action='ignore',category=np.VisibleDeprecationWarning)"
   ]
  },
  {
   "cell_type": "code",
   "execution_count": 4,
   "id": "f40987e0",
   "metadata": {},
   "outputs": [],
   "source": [
    "import numpy as np"
   ]
  },
  {
   "cell_type": "code",
   "execution_count": 5,
   "id": "169f3935",
   "metadata": {},
   "outputs": [
    {
     "data": {
      "text/html": [
       "<table border=\"1\" class=\"dataframe\">\n",
       "    <thead>\n",
       "        <tr>\n",
       "            \n",
       "        </tr>\n",
       "    </thead>\n",
       "    <tbody>\n",
       "    </tbody>\n",
       "</table>"
      ],
      "text/plain": []
     },
     "execution_count": 5,
     "metadata": {},
     "output_type": "execute_result"
    }
   ],
   "source": [
    "Table()"
   ]
  },
  {
   "cell_type": "code",
   "execution_count": 4,
   "id": "7267f60d",
   "metadata": {},
   "outputs": [
    {
     "name": "stdout",
     "output_type": "stream",
     "text": [
      "13\n"
     ]
    }
   ],
   "source": [
    "g = 6\n",
    "n = 7\n",
    "print(g+n)"
   ]
  },
  {
   "cell_type": "code",
   "execution_count": 5,
   "id": "23dd66f4",
   "metadata": {},
   "outputs": [
    {
     "name": "stdout",
     "output_type": "stream",
     "text": [
      "4\n"
     ]
    }
   ],
   "source": [
    "u = 6\n",
    "u -= 2\n",
    "print(u)     # u = 6-2"
   ]
  },
  {
   "cell_type": "code",
   "execution_count": 6,
   "id": "940a1d04",
   "metadata": {},
   "outputs": [
    {
     "data": {
      "text/plain": [
       "True"
      ]
     },
     "execution_count": 6,
     "metadata": {},
     "output_type": "execute_result"
    }
   ],
   "source": [
    " 3>1"
   ]
  },
  {
   "cell_type": "code",
   "execution_count": 7,
   "id": "c2347878",
   "metadata": {},
   "outputs": [
    {
     "data": {
      "text/plain": [
       "False"
      ]
     },
     "execution_count": 7,
     "metadata": {},
     "output_type": "execute_result"
    }
   ],
   "source": [
    "3<1"
   ]
  },
  {
   "cell_type": "code",
   "execution_count": 8,
   "id": "0b944372",
   "metadata": {},
   "outputs": [
    {
     "name": "stdout",
     "output_type": "stream",
     "text": [
      "<class 'bool'>\n"
     ]
    }
   ],
   "source": [
    "print(type(3>1))"
   ]
  },
  {
   "cell_type": "code",
   "execution_count": null,
   "id": "59a8332c",
   "metadata": {},
   "outputs": [],
   "source": [
    "3 == 4"
   ]
  },
  {
   "cell_type": "code",
   "execution_count": 9,
   "id": "2a1b3827",
   "metadata": {},
   "outputs": [
    {
     "data": {
      "text/plain": [
       "False"
      ]
     },
     "execution_count": 9,
     "metadata": {},
     "output_type": "execute_result"
    }
   ],
   "source": [
    "3==4"
   ]
  },
  {
   "cell_type": "code",
   "execution_count": 23,
   "id": "609a4fbe",
   "metadata": {},
   "outputs": [
    {
     "data": {
      "text/plain": [
       "array(['dog', 'cat', 'rabbit', 'horse', 'rat', 'lion', 'dog'],\n",
       "      dtype='<U6')"
      ]
     },
     "execution_count": 23,
     "metadata": {},
     "output_type": "execute_result"
    }
   ],
   "source": [
    "animals = make_array('dog','cat','rabbit','horse','rat','lion','dog')\n",
    "animals"
   ]
  },
  {
   "cell_type": "code",
   "execution_count": 24,
   "id": "c8deb458",
   "metadata": {},
   "outputs": [
    {
     "data": {
      "text/plain": [
       "array([False,  True, False, False, False, False, False], dtype=bool)"
      ]
     },
     "execution_count": 24,
     "metadata": {},
     "output_type": "execute_result"
    }
   ],
   "source": [
    "animals == \"cat\""
   ]
  },
  {
   "cell_type": "code",
   "execution_count": 25,
   "id": "4de68326",
   "metadata": {},
   "outputs": [
    {
     "data": {
      "text/plain": [
       "2"
      ]
     },
     "execution_count": 25,
     "metadata": {},
     "output_type": "execute_result"
    }
   ],
   "source": [
    "np.count_nonzero(animals == 'dog')"
   ]
  },
  {
   "cell_type": "code",
   "execution_count": 27,
   "id": "b9d5d3cd",
   "metadata": {},
   "outputs": [
    {
     "data": {
      "text/plain": [
       "2"
      ]
     },
     "execution_count": 27,
     "metadata": {},
     "output_type": "execute_result"
    }
   ],
   "source": [
    "sum(animals == 'dog')"
   ]
  },
  {
   "cell_type": "code",
   "execution_count": 28,
   "id": "a0a1b802",
   "metadata": {},
   "outputs": [
    {
     "data": {
      "text/plain": [
       "4"
      ]
     },
     "execution_count": 28,
     "metadata": {},
     "output_type": "execute_result"
    }
   ],
   "source": [
    "1 + 0 + 1 + 1 + 1 + 0"
   ]
  },
  {
   "cell_type": "code",
   "execution_count": 31,
   "id": "4ba7d64f",
   "metadata": {},
   "outputs": [
    {
     "data": {
      "text/plain": [
       "4"
      ]
     },
     "execution_count": 31,
     "metadata": {},
     "output_type": "execute_result"
    }
   ],
   "source": [
    "sum(make_array(True,False,True,True,True,False))"
   ]
  },
  {
   "cell_type": "code",
   "execution_count": 32,
   "id": "d127774c",
   "metadata": {},
   "outputs": [
    {
     "data": {
      "text/plain": [
       "array([20, 21, 22, 23, 24, 25, 26, 27, 28, 29, 30])"
      ]
     },
     "execution_count": 32,
     "metadata": {},
     "output_type": "execute_result"
    }
   ],
   "source": [
    "x = np.arange(20,31)\n",
    "x"
   ]
  },
  {
   "cell_type": "code",
   "execution_count": 33,
   "id": "dd8b5cd1",
   "metadata": {},
   "outputs": [
    {
     "data": {
      "text/plain": [
       "array([False, False, False, False, False, False, False, False, False,\n",
       "        True,  True], dtype=bool)"
      ]
     },
     "execution_count": 33,
     "metadata": {},
     "output_type": "execute_result"
    }
   ],
   "source": [
    "x > 28"
   ]
  },
  {
   "cell_type": "code",
   "execution_count": 39,
   "id": "5cd8db85",
   "metadata": {},
   "outputs": [
    {
     "name": "stdout",
     "output_type": "stream",
     "text": [
      "Both are equal.\n"
     ]
    }
   ],
   "source": [
    "a = 67\n",
    "c = 67\n",
    "if a>c :\n",
    "    print(\"A is Largest.\")\n",
    "elif a == c :\n",
    "    print(\"Both are equal.\")\n",
    "else :\n",
    "    print(\"C is Largest.\")"
   ]
  },
  {
   "cell_type": "code",
   "execution_count": 41,
   "id": "aac4e0d8",
   "metadata": {},
   "outputs": [
    {
     "name": "stdout",
     "output_type": "stream",
     "text": [
      "Enter your Name : Garv\n"
     ]
    },
    {
     "data": {
      "text/plain": [
       "'Garv'"
      ]
     },
     "execution_count": 41,
     "metadata": {},
     "output_type": "execute_result"
    }
   ],
   "source": [
    "var = input(\"Enter your Name : \")\n",
    "var"
   ]
  },
  {
   "cell_type": "code",
   "execution_count": 45,
   "id": "6f9bb786",
   "metadata": {},
   "outputs": [
    {
     "name": "stdout",
     "output_type": "stream",
     "text": [
      "Enter your Number : 67.4\n",
      "67.4\n"
     ]
    }
   ],
   "source": [
    "var1 = float(input(\"Enter your Number : \"))\n",
    "print(var1)"
   ]
  },
  {
   "cell_type": "code",
   "execution_count": 49,
   "id": "8725b645",
   "metadata": {},
   "outputs": [],
   "source": [
    "def one_round(my_roll, your_roll):\n",
    "    if my_roll > your_roll:\n",
    "        return 1\n",
    "    elif my_roll == your_roll:\n",
    "        return 0"
   ]
  },
  {
   "cell_type": "code",
   "execution_count": 48,
   "id": "bf4a711e",
   "metadata": {},
   "outputs": [
    {
     "data": {
      "text/plain": [
       "1"
      ]
     },
     "execution_count": 48,
     "metadata": {},
     "output_type": "execute_result"
    }
   ],
   "source": [
    "one_round(4,3)"
   ]
  },
  {
   "cell_type": "code",
   "execution_count": 50,
   "id": "162610de",
   "metadata": {},
   "outputs": [
    {
     "data": {
      "text/plain": [
       "0"
      ]
     },
     "execution_count": 50,
     "metadata": {},
     "output_type": "execute_result"
    }
   ],
   "source": [
    "one_round(4,4)"
   ]
  },
  {
   "cell_type": "code",
   "execution_count": 52,
   "id": "dcbe839b",
   "metadata": {},
   "outputs": [],
   "source": [
    "walking = make_array('day','night')"
   ]
  },
  {
   "cell_type": "code",
   "execution_count": 53,
   "id": "2a5cb4ac",
   "metadata": {},
   "outputs": [
    {
     "data": {
      "text/plain": [
       "'night'"
      ]
     },
     "execution_count": 53,
     "metadata": {},
     "output_type": "execute_result"
    }
   ],
   "source": [
    "np.random.choice(walking)"
   ]
  },
  {
   "cell_type": "code",
   "execution_count": 54,
   "id": "9e6c8788",
   "metadata": {},
   "outputs": [
    {
     "data": {
      "text/plain": [
       "'day'"
      ]
     },
     "execution_count": 54,
     "metadata": {},
     "output_type": "execute_result"
    }
   ],
   "source": [
    "np.random.choice(walking)"
   ]
  },
  {
   "cell_type": "code",
   "execution_count": 55,
   "id": "8416d40c",
   "metadata": {},
   "outputs": [
    {
     "data": {
      "text/plain": [
       "array(['day', 'day', 'day', 'night', 'night', 'night'],\n",
       "      dtype='<U5')"
      ]
     },
     "execution_count": 55,
     "metadata": {},
     "output_type": "execute_result"
    }
   ],
   "source": [
    "np.random.choice(walking,6)"
   ]
  },
  {
   "cell_type": "code",
   "execution_count": 56,
   "id": "cc38b78d",
   "metadata": {},
   "outputs": [
    {
     "data": {
      "text/plain": [
       "2"
      ]
     },
     "execution_count": 56,
     "metadata": {},
     "output_type": "execute_result"
    }
   ],
   "source": [
    "sum(np.random.choice(walking, 6) == 'day')"
   ]
  },
  {
   "cell_type": "code",
   "execution_count": 57,
   "id": "8e9cfde4",
   "metadata": {},
   "outputs": [],
   "source": [
    "die = np.arange(1,7)"
   ]
  },
  {
   "cell_type": "code",
   "execution_count": 58,
   "id": "ce7f25da",
   "metadata": {},
   "outputs": [
    {
     "data": {
      "text/plain": [
       "3"
      ]
     },
     "execution_count": 58,
     "metadata": {},
     "output_type": "execute_result"
    }
   ],
   "source": [
    "np.random.choice(die)"
   ]
  },
  {
   "cell_type": "code",
   "execution_count": 59,
   "id": "e3b31b54",
   "metadata": {},
   "outputs": [],
   "source": [
    "def simulate():\n",
    "    my_roll = np.random.choice(die)\n",
    "    your_roll = np.random.choice(die)\n",
    "    return one_round(my_roll,your_roll)"
   ]
  },
  {
   "cell_type": "code",
   "execution_count": 60,
   "id": "234cc1b0",
   "metadata": {},
   "outputs": [],
   "source": [
    "simulate()"
   ]
  },
  {
   "cell_type": "code",
   "execution_count": 61,
   "id": "33077851",
   "metadata": {},
   "outputs": [],
   "source": [
    "simulate()"
   ]
  },
  {
   "cell_type": "code",
   "execution_count": 62,
   "id": "9c42d93d",
   "metadata": {},
   "outputs": [],
   "source": [
    "first = np.arange(5)\n",
    "seco = np.arange(10,17)"
   ]
  },
  {
   "cell_type": "code",
   "execution_count": 63,
   "id": "8938af6d",
   "metadata": {},
   "outputs": [
    {
     "data": {
      "text/plain": [
       "array([0, 1, 2, 3, 4])"
      ]
     },
     "execution_count": 63,
     "metadata": {},
     "output_type": "execute_result"
    }
   ],
   "source": [
    "first"
   ]
  },
  {
   "cell_type": "code",
   "execution_count": 64,
   "id": "d61595c4",
   "metadata": {},
   "outputs": [
    {
     "data": {
      "text/plain": [
       "array([10, 11, 12, 13, 14, 15, 16])"
      ]
     },
     "execution_count": 64,
     "metadata": {},
     "output_type": "execute_result"
    }
   ],
   "source": [
    "seco"
   ]
  },
  {
   "cell_type": "code",
   "execution_count": 65,
   "id": "4ec50911",
   "metadata": {},
   "outputs": [
    {
     "data": {
      "text/plain": [
       "array([ 0,  1,  2,  3,  4, 10, 11, 12, 13, 14, 15, 16])"
      ]
     },
     "execution_count": 65,
     "metadata": {},
     "output_type": "execute_result"
    }
   ],
   "source": [
    "np.append(first,seco)"
   ]
  },
  {
   "cell_type": "code",
   "execution_count": 66,
   "id": "1c266f94",
   "metadata": {},
   "outputs": [
    {
     "data": {
      "text/plain": [
       "array([0, 1, 2, 3, 4, 9])"
      ]
     },
     "execution_count": 66,
     "metadata": {},
     "output_type": "execute_result"
    }
   ],
   "source": [
    "np.append(first,9)"
   ]
  },
  {
   "cell_type": "code",
   "execution_count": 67,
   "id": "7d110917",
   "metadata": {},
   "outputs": [
    {
     "data": {
      "text/plain": [
       "array([0, 1, 2, 3, 4])"
      ]
     },
     "execution_count": 67,
     "metadata": {},
     "output_type": "execute_result"
    }
   ],
   "source": [
    "first"
   ]
  },
  {
   "cell_type": "code",
   "execution_count": null,
   "id": "625bbc8c",
   "metadata": {},
   "outputs": [],
   "source": []
  },
  {
   "cell_type": "code",
   "execution_count": 8,
   "id": "c796b632",
   "metadata": {},
   "outputs": [],
   "source": [
    "goats = make_array('first_goat','second goat')"
   ]
  },
  {
   "cell_type": "code",
   "execution_count": 9,
   "id": "d9b0cbd5",
   "metadata": {},
   "outputs": [],
   "source": [
    "def other_goat(x):\n",
    "    if x == 'first_goat':\n",
    "        return 'second_goat'\n",
    "    elif x == 'second_goat':\n",
    "        return 'first_goat'"
   ]
  },
  {
   "cell_type": "code",
   "execution_count": 10,
   "id": "22bb47af",
   "metadata": {},
   "outputs": [
    {
     "data": {
      "text/plain": [
       "('second_goat', 'first_goat', None)"
      ]
     },
     "execution_count": 10,
     "metadata": {},
     "output_type": "execute_result"
    }
   ],
   "source": [
    "other_goat('first_goat'), other_goat('second_goat'), other_goat('car')"
   ]
  },
  {
   "cell_type": "code",
   "execution_count": 11,
   "id": "29c5fbf3",
   "metadata": {},
   "outputs": [
    {
     "data": {
      "text/plain": [
       "array(['first_goat', 'second goat', 'car'],\n",
       "      dtype='<U11')"
      ]
     },
     "execution_count": 11,
     "metadata": {},
     "output_type": "execute_result"
    }
   ],
   "source": [
    "hidden_behind_doors = np.append(goats, 'car')\n",
    "hidden_behind_doors"
   ]
  },
  {
   "cell_type": "code",
   "execution_count": 12,
   "id": "b9ce70a0",
   "metadata": {},
   "outputs": [],
   "source": [
    "def monty_hall_game():\n",
    "    \"\"\"Return \n",
    "    [contestant's guess, what Monty reveals, what remains behind the other door]\"\"\"\n",
    "    \n",
    "    contestant_guess = np.random.choice(hidden_behind_doors)\n",
    "    \n",
    "    if contestant_guess == 'first goat':\n",
    "        return [contestant_guess, 'second goat', 'car']\n",
    "    \n",
    "    if contestant_guess == 'second goat':\n",
    "        return [contestant_guess, 'first goat', 'car']\n",
    "    \n",
    "    if contestant_guess == 'car':\n",
    "        revealed = np.random.choice(goats)\n",
    "        return [contestant_guess, revealed, other_goat(revealed)]"
   ]
  },
  {
   "cell_type": "code",
   "execution_count": 13,
   "id": "aa82acc0",
   "metadata": {},
   "outputs": [
    {
     "data": {
      "text/plain": [
       "['car', 'second goat', None]"
      ]
     },
     "execution_count": 13,
     "metadata": {},
     "output_type": "execute_result"
    }
   ],
   "source": [
    " monty_hall_game()"
   ]
  },
  {
   "cell_type": "code",
   "execution_count": 14,
   "id": "d6cab5d5",
   "metadata": {},
   "outputs": [
    {
     "data": {
      "text/html": [
       "<table border=\"1\" class=\"dataframe\">\n",
       "    <thead>\n",
       "        <tr>\n",
       "            <th>Rolls</th> <th>Chances of at least one 6</th>\n",
       "        </tr>\n",
       "    </thead>\n",
       "    <tbody>\n",
       "        <tr>\n",
       "            <td>1    </td> <td>0.166667                 </td>\n",
       "        </tr>\n",
       "        <tr>\n",
       "            <td>2    </td> <td>0.305556                 </td>\n",
       "        </tr>\n",
       "        <tr>\n",
       "            <td>3    </td> <td>0.421296                 </td>\n",
       "        </tr>\n",
       "        <tr>\n",
       "            <td>4    </td> <td>0.517747                 </td>\n",
       "        </tr>\n",
       "        <tr>\n",
       "            <td>5    </td> <td>0.598122                 </td>\n",
       "        </tr>\n",
       "        <tr>\n",
       "            <td>6    </td> <td>0.665102                 </td>\n",
       "        </tr>\n",
       "        <tr>\n",
       "            <td>7    </td> <td>0.720918                 </td>\n",
       "        </tr>\n",
       "        <tr>\n",
       "            <td>8    </td> <td>0.767432                 </td>\n",
       "        </tr>\n",
       "        <tr>\n",
       "            <td>9    </td> <td>0.806193                 </td>\n",
       "        </tr>\n",
       "        <tr>\n",
       "            <td>10   </td> <td>0.838494                 </td>\n",
       "        </tr>\n",
       "    </tbody>\n",
       "</table>\n",
       "<p>... (40 rows omitted)</p>"
      ],
      "text/plain": [
       "Rolls | Chances of at least one 6\n",
       "1     | 0.166667\n",
       "2     | 0.305556\n",
       "3     | 0.421296\n",
       "4     | 0.517747\n",
       "5     | 0.598122\n",
       "6     | 0.665102\n",
       "7     | 0.720918\n",
       "8     | 0.767432\n",
       "9     | 0.806193\n",
       "10    | 0.838494\n",
       "... (40 rows omitted)"
      ]
     },
     "execution_count": 14,
     "metadata": {},
     "output_type": "execute_result"
    }
   ],
   "source": [
    "rolls = np.arange(1,51,1)\n",
    "results = Table().with_columns(\n",
    "    'Rolls',rolls,\n",
    "    'Chances of at least one 6',1-(5/6)**rolls\n",
    ")\n",
    "results"
   ]
  },
  {
   "cell_type": "code",
   "execution_count": 15,
   "id": "4fe0be4c",
   "metadata": {},
   "outputs": [
    {
     "data": {
      "image/png": "[encoded data removed]",
      "text/plain": [
       "<Figure size 360x360 with 1 Axes>"
      ]
     },
     "metadata": {},
     "output_type": "display_data"
    }
   ],
   "source": [
    "results.scatter('Rolls')"
   ]
  },
  {
   "cell_type": "code",
   "execution_count": 16,
   "id": "06278ee7",
   "metadata": {},
   "outputs": [
    {
     "data": {
      "text/html": [
       "<table border=\"1\" class=\"dataframe\">\n",
       "    <thead>\n",
       "        <tr>\n",
       "            <th>Rolls</th> <th>Chances of at least one 6</th>\n",
       "        </tr>\n",
       "    </thead>\n",
       "    <tbody>\n",
       "        <tr>\n",
       "            <td>50   </td> <td>0.99989                  </td>\n",
       "        </tr>\n",
       "    </tbody>\n",
       "</table>"
      ],
      "text/plain": [
       "Rolls | Chances of at least one 6\n",
       "50    | 0.99989"
      ]
     },
     "execution_count": 16,
     "metadata": {},
     "output_type": "execute_result"
    }
   ],
   "source": [
    "results.where('Rolls', are.equal_to(50))"
   ]
  },
  {
   "cell_type": "code",
   "execution_count": 17,
   "id": "88d56460",
   "metadata": {},
   "outputs": [
    {
     "data": {
      "text/plain": [
       "0.00020202020202020205"
      ]
     },
     "execution_count": 17,
     "metadata": {},
     "output_type": "execute_result"
    }
   ],
   "source": [
    "(1/100)*(1/99)+(1/100)*(1/99)"
   ]
  },
  {
   "cell_type": "code",
   "execution_count": 18,
   "id": "4e1fa88b",
   "metadata": {},
   "outputs": [
    {
     "data": {
      "text/plain": [
       "0.00020202020202020202"
      ]
     },
     "execution_count": 18,
     "metadata": {},
     "output_type": "execute_result"
    }
   ],
   "source": [
    "2/(100*99)"
   ]
  },
  {
   "cell_type": "code",
   "execution_count": 25,
   "id": "9676d8c0",
   "metadata": {},
   "outputs": [],
   "source": [
    "def sign(x):\n",
    "    if x > 0:\n",
    "        return 'positive'\n",
    "    elif x < 0 :\n",
    "        return 'Negative'"
   ]
  },
  {
   "cell_type": "code",
   "execution_count": 23,
   "id": "945c8fa9",
   "metadata": {},
   "outputs": [
    {
     "data": {
      "text/plain": [
       "'positive'"
      ]
     },
     "execution_count": 23,
     "metadata": {},
     "output_type": "execute_result"
    }
   ],
   "source": [
    "sign(4)"
   ]
  },
  {
   "cell_type": "code",
   "execution_count": 26,
   "id": "0db24bfe",
   "metadata": {},
   "outputs": [
    {
     "data": {
      "text/plain": [
       "'Negative'"
      ]
     },
     "execution_count": 26,
     "metadata": {},
     "output_type": "execute_result"
    }
   ],
   "source": [
    "sign(-3)"
   ]
  },
  {
   "cell_type": "code",
   "execution_count": 27,
   "id": "b1fe8d8b",
   "metadata": {},
   "outputs": [],
   "source": [
    "sign(0)"
   ]
  },
  {
   "cell_type": "code",
   "execution_count": 31,
   "id": "6efe47cb",
   "metadata": {},
   "outputs": [
    {
     "data": {
      "text/html": [
       "<table border=\"1\" class=\"dataframe\">\n",
       "    <thead>\n",
       "        <tr>\n",
       "            <th>Face</th>\n",
       "        </tr>\n",
       "    </thead>\n",
       "    <tbody>\n",
       "        <tr>\n",
       "            <td>1   </td>\n",
       "        </tr>\n",
       "        <tr>\n",
       "            <td>4   </td>\n",
       "        </tr>\n",
       "    </tbody>\n",
       "</table>"
      ],
      "text/plain": [
       "Face\n",
       "1\n",
       "4"
      ]
     },
     "execution_count": 31,
     "metadata": {},
     "output_type": "execute_result"
    }
   ],
   "source": [
    "die = Table().with_column('Face',np.arange(1,7,3))\n",
    "die"
   ]
  },
  {
   "cell_type": "code",
   "execution_count": 33,
   "id": "2736b27f",
   "metadata": {},
   "outputs": [
    {
     "data": {
      "image/png": "[encoded data removed]",
      "text/plain": [
       "<Figure size 432x288 with 1 Axes>"
      ]
     },
     "metadata": {},
     "output_type": "display_data"
    }
   ],
   "source": [
    "die1_bins = np.arange(0.4,6.6,1)\n",
    "die.hist(bins = die1_bins)"
   ]
  },
  {
   "cell_type": "code",
   "execution_count": null,
   "id": "9ecf558f",
   "metadata": {},
   "outputs": [],
   "source": []
  }
 ],
 "metadata": {
  "kernelspec": {
   "display_name": "Python 3 (ipykernel)",
   "language": "python",
   "name": "python3"
  },
  "language_info": {
   "codemirror_mode": {
    "name": "ipython",
    "version": 3
   },
   "file_extension": ".py",
   "mimetype": "text/x-python",
   "name": "python",
   "nbconvert_exporter": "python",
   "pygments_lexer": "ipython3",
   "version": "3.9.12"
  }
 },
 "nbformat": 4,
 "nbformat_minor": 5
}
