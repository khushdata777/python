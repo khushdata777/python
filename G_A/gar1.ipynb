{
 "cells": [
  {
   "cell_type": "code",
   "execution_count": 3,
   "id": "a3d92bf5",
   "metadata": {},
   "outputs": [
    {
     "name": "stdout",
     "output_type": "stream",
     "text": [
      "Requirement already satisfied: datascience in c:\\users\\tops\\appdata\\roaming\\python\\python39\\site-packages (0.17.5)\n",
      "Requirement already satisfied: matplotlib>=3.0.0 in c:\\users\\tops\\anaconda3\\lib\\site-packages (from datascience) (3.5.1)\n",
      "Requirement already satisfied: setuptools in c:\\users\\tops\\anaconda3\\lib\\site-packages (from datascience) (61.2.0)\n",
      "Requirement already satisfied: numpy in c:\\users\\tops\\anaconda3\\lib\\site-packages (from datascience) (1.21.5)\n",
      "Requirement already satisfied: plotly in c:\\users\\tops\\anaconda3\\lib\\site-packages (from datascience) (5.6.0)\n",
      "Requirement already satisfied: pandas in c:\\users\\tops\\anaconda3\\lib\\site-packages (from datascience) (1.4.2)\n",
      "Requirement already satisfied: ipython in c:\\users\\tops\\anaconda3\\lib\\site-packages (from datascience) (8.2.0)\n",
      "Requirement already satisfied: scipy in c:\\users\\tops\\anaconda3\\lib\\site-packages (from datascience) (1.7.3)\n",
      "Requirement already satisfied: branca in c:\\users\\tops\\appdata\\roaming\\python\\python39\\site-packages (from datascience) (0.5.0)\n",
      "Requirement already satisfied: folium>=0.9.1 in c:\\users\\tops\\appdata\\roaming\\python\\python39\\site-packages (from datascience) (0.12.1.post1)\n",
      "Requirement already satisfied: jinja2>=2.9 in c:\\users\\tops\\anaconda3\\lib\\site-packages (from folium>=0.9.1->datascience) (2.11.3)\n",
      "Requirement already satisfied: requests in c:\\users\\tops\\anaconda3\\lib\\site-packages (from folium>=0.9.1->datascience) (2.27.1)\n",
      "Requirement already satisfied: MarkupSafe>=0.23 in c:\\users\\tops\\anaconda3\\lib\\site-packages (from jinja2>=2.9->folium>=0.9.1->datascience) (2.0.1)\n",
      "Requirement already satisfied: pillow>=6.2.0 in c:\\users\\tops\\anaconda3\\lib\\site-packages (from matplotlib>=3.0.0->datascience) (9.0.1)\n",
      "Requirement already satisfied: packaging>=20.0 in c:\\users\\tops\\anaconda3\\lib\\site-packages (from matplotlib>=3.0.0->datascience) (21.3)\n",
      "Requirement already satisfied: pyparsing>=2.2.1 in c:\\users\\tops\\anaconda3\\lib\\site-packages (from matplotlib>=3.0.0->datascience) (3.0.4)\n",
      "Requirement already satisfied: fonttools>=4.22.0 in c:\\users\\tops\\anaconda3\\lib\\site-packages (from matplotlib>=3.0.0->datascience) (4.25.0)\n",
      "Requirement already satisfied: kiwisolver>=1.0.1 in c:\\users\\tops\\anaconda3\\lib\\site-packages (from matplotlib>=3.0.0->datascience) (1.3.2)\n",
      "Requirement already satisfied: python-dateutil>=2.7 in c:\\users\\tops\\anaconda3\\lib\\site-packages (from matplotlib>=3.0.0->datascience) (2.8.2)\n",
      "Requirement already satisfied: cycler>=0.10 in c:\\users\\tops\\anaconda3\\lib\\site-packages (from matplotlib>=3.0.0->datascience) (0.11.0)\n",
      "Requirement already satisfied: six>=1.5 in c:\\users\\tops\\anaconda3\\lib\\site-packages (from python-dateutil>=2.7->matplotlib>=3.0.0->datascience) (1.16.0)\n",
      "Requirement already satisfied: stack-data in c:\\users\\tops\\anaconda3\\lib\\site-packages (from ipython->datascience) (0.2.0)\n",
      "Requirement already satisfied: prompt-toolkit!=3.0.0,!=3.0.1,<3.1.0,>=2.0.0 in c:\\users\\tops\\anaconda3\\lib\\site-packages (from ipython->datascience) (3.0.20)\n",
      "Requirement already satisfied: backcall in c:\\users\\tops\\anaconda3\\lib\\site-packages (from ipython->datascience) (0.2.0)\n",
      "Requirement already satisfied: pickleshare in c:\\users\\tops\\anaconda3\\lib\\site-packages (from ipython->datascience) (0.7.5)\n",
      "Requirement already satisfied: traitlets>=5 in c:\\users\\tops\\anaconda3\\lib\\site-packages (from ipython->datascience) (5.1.1)\n",
      "Requirement already satisfied: decorator in c:\\users\\tops\\anaconda3\\lib\\site-packages (from ipython->datascience) (5.1.1)\n",
      "Requirement already satisfied: jedi>=0.16 in c:\\users\\tops\\anaconda3\\lib\\site-packages (from ipython->datascience) (0.18.1)\n",
      "Requirement already satisfied: matplotlib-inline in c:\\users\\tops\\anaconda3\\lib\\site-packages (from ipython->datascience) (0.1.2)\n",
      "Requirement already satisfied: colorama in c:\\users\\tops\\anaconda3\\lib\\site-packages (from ipython->datascience) (0.4.4)\n",
      "Requirement already satisfied: pygments>=2.4.0 in c:\\users\\tops\\anaconda3\\lib\\site-packages (from ipython->datascience) (2.11.2)\n",
      "Requirement already satisfied: parso<0.9.0,>=0.8.0 in c:\\users\\tops\\anaconda3\\lib\\site-packages (from jedi>=0.16->ipython->datascience) (0.8.3)\n",
      "Requirement already satisfied: wcwidth in c:\\users\\tops\\anaconda3\\lib\\site-packages (from prompt-toolkit!=3.0.0,!=3.0.1,<3.1.0,>=2.0.0->ipython->datascience) (0.2.5)\n",
      "Requirement already satisfied: pytz>=2020.1 in c:\\users\\tops\\anaconda3\\lib\\site-packages (from pandas->datascience) (2021.3)\n",
      "Requirement already satisfied: tenacity>=6.2.0 in c:\\users\\tops\\anaconda3\\lib\\site-packages (from plotly->datascience) (8.0.1)\n",
      "Requirement already satisfied: certifi>=2017.4.17 in c:\\users\\tops\\anaconda3\\lib\\site-packages (from requests->folium>=0.9.1->datascience) (2021.10.8)\n",
      "Requirement already satisfied: urllib3<1.27,>=1.21.1 in c:\\users\\tops\\anaconda3\\lib\\site-packages (from requests->folium>=0.9.1->datascience) (1.26.9)\n",
      "Requirement already satisfied: charset-normalizer~=2.0.0 in c:\\users\\tops\\anaconda3\\lib\\site-packages (from requests->folium>=0.9.1->datascience) (2.0.4)\n",
      "Requirement already satisfied: idna<4,>=2.5 in c:\\users\\tops\\anaconda3\\lib\\site-packages (from requests->folium>=0.9.1->datascience) (3.3)\n",
      "Requirement already satisfied: asttokens in c:\\users\\tops\\anaconda3\\lib\\site-packages (from stack-data->ipython->datascience) (2.0.5)\n",
      "Requirement already satisfied: pure-eval in c:\\users\\tops\\anaconda3\\lib\\site-packages (from stack-data->ipython->datascience) (0.2.2)\n",
      "Requirement already satisfied: executing in c:\\users\\tops\\anaconda3\\lib\\site-packages (from stack-data->ipython->datascience) (0.8.3)\n"
     ]
    }
   ],
   "source": [
    "!pip install --user datascience"
   ]
  },
  {
   "cell_type": "code",
   "execution_count": 4,
   "id": "fef0a1a0",
   "metadata": {},
   "outputs": [],
   "source": [
    "from datascience import *\n",
    "import numpy as np\n",
    "path_data = '../../../assets/data/'\n",
    "\n",
    "%matplotlib inline\n",
    "import matplotlib.pyplot as plots\n",
    "plots.style.use('fivethirtyeight')\n",
    "import warnings\n",
    "warnings.simplefilter(action='ignore',category=np.VisibleDeprecationWarning)"
   ]
  },
  {
   "cell_type": "code",
   "execution_count": 5,
   "id": "1616ab24",
   "metadata": {},
   "outputs": [
    {
     "data": {
      "text/html": [
       "<table border=\"1\" class=\"dataframe\">\n",
       "    <thead>\n",
       "        <tr>\n",
       "            \n",
       "        </tr>\n",
       "    </thead>\n",
       "    <tbody>\n",
       "    </tbody>\n",
       "</table>"
      ],
      "text/plain": []
     },
     "execution_count": 5,
     "metadata": {},
     "output_type": "execute_result"
    }
   ],
   "source": [
    "Table()"
   ]
  },
  {
   "cell_type": "code",
   "execution_count": 9,
   "id": "c45a156b",
   "metadata": {},
   "outputs": [
    {
     "data": {
      "text/html": [
       "<table border=\"1\" class=\"dataframe\">\n",
       "    <thead>\n",
       "        <tr>\n",
       "            <th>Date</th> <th>Flight Number</th> <th>Destination</th> <th>Delay</th>\n",
       "        </tr>\n",
       "    </thead>\n",
       "    <tbody>\n",
       "        <tr>\n",
       "            <td>6/1/15</td> <td>73           </td> <td>HNL        </td> <td>257  </td>\n",
       "        </tr>\n",
       "        <tr>\n",
       "            <td>6/1/15</td> <td>217          </td> <td>EWR        </td> <td>28   </td>\n",
       "        </tr>\n",
       "        <tr>\n",
       "            <td>6/1/15</td> <td>237          </td> <td>STL        </td> <td>-3   </td>\n",
       "        </tr>\n",
       "        <tr>\n",
       "            <td>6/1/15</td> <td>250          </td> <td>SAN        </td> <td>0    </td>\n",
       "        </tr>\n",
       "        <tr>\n",
       "            <td>6/1/15</td> <td>267          </td> <td>PHL        </td> <td>64   </td>\n",
       "        </tr>\n",
       "        <tr>\n",
       "            <td>6/1/15</td> <td>273          </td> <td>SEA        </td> <td>-6   </td>\n",
       "        </tr>\n",
       "        <tr>\n",
       "            <td>6/1/15</td> <td>278          </td> <td>SEA        </td> <td>-8   </td>\n",
       "        </tr>\n",
       "        <tr>\n",
       "            <td>6/1/15</td> <td>292          </td> <td>EWR        </td> <td>12   </td>\n",
       "        </tr>\n",
       "        <tr>\n",
       "            <td>6/1/15</td> <td>300          </td> <td>HNL        </td> <td>20   </td>\n",
       "        </tr>\n",
       "        <tr>\n",
       "            <td>6/1/15</td> <td>317          </td> <td>IND        </td> <td>-10  </td>\n",
       "        </tr>\n",
       "    </tbody>\n",
       "</table>\n",
       "<p>... (13815 rows omitted)</p>"
      ],
      "text/plain": [
       "Date   | Flight Number | Destination | Delay\n",
       "6/1/15 | 73            | HNL         | 257\n",
       "6/1/15 | 217           | EWR         | 28\n",
       "6/1/15 | 237           | STL         | -3\n",
       "6/1/15 | 250           | SAN         | 0\n",
       "6/1/15 | 267           | PHL         | 64\n",
       "6/1/15 | 273           | SEA         | -6\n",
       "6/1/15 | 278           | SEA         | -8\n",
       "6/1/15 | 292           | EWR         | 12\n",
       "6/1/15 | 300           | HNL         | 20\n",
       "6/1/15 | 317           | IND         | -10\n",
       "... (13815 rows omitted)"
      ]
     },
     "execution_count": 9,
     "metadata": {},
     "output_type": "execute_result"
    }
   ],
   "source": [
    "united = Table.read_table('united.csv')\n",
    "united"
   ]
  },
  {
   "cell_type": "code",
   "execution_count": 10,
   "id": "81f926b7",
   "metadata": {},
   "outputs": [
    {
     "data": {
      "text/html": [
       "<table border=\"1\" class=\"dataframe\">\n",
       "    <thead>\n",
       "        <tr>\n",
       "            <th>Date</th> <th>Flight Number</th> <th>Destination</th> <th>Delay</th>\n",
       "        </tr>\n",
       "    </thead>\n",
       "    <tbody>\n",
       "    </tbody>\n",
       "</table>"
      ],
      "text/plain": [
       "Date | Flight Number | Destination | Delay"
      ]
     },
     "execution_count": 10,
     "metadata": {},
     "output_type": "execute_result"
    }
   ],
   "source": [
    "united.where('Destination','JKF')"
   ]
  },
  {
   "cell_type": "code",
   "execution_count": 11,
   "id": "ea678e8f",
   "metadata": {},
   "outputs": [
    {
     "data": {
      "text/html": [
       "<table border=\"1\" class=\"dataframe\">\n",
       "    <thead>\n",
       "        <tr>\n",
       "            <th>Date</th> <th>Flight Number</th> <th>Destination</th> <th>Delay</th>\n",
       "        </tr>\n",
       "    </thead>\n",
       "    <tbody>\n",
       "        <tr>\n",
       "            <td>6/1/15</td> <td>650          </td> <td>AUS        </td> <td>44   </td>\n",
       "        </tr>\n",
       "        <tr>\n",
       "            <td>6/1/15</td> <td>1076         </td> <td>IAD        </td> <td>3    </td>\n",
       "        </tr>\n",
       "        <tr>\n",
       "            <td>6/6/15</td> <td>525          </td> <td>IAD        </td> <td>-16  </td>\n",
       "        </tr>\n",
       "    </tbody>\n",
       "</table>"
      ],
      "text/plain": [
       "Date   | Flight Number | Destination | Delay\n",
       "6/1/15 | 650           | AUS         | 44\n",
       "6/1/15 | 1076          | IAD         | 3\n",
       "6/6/15 | 525           | IAD         | -16"
      ]
     },
     "execution_count": 11,
     "metadata": {},
     "output_type": "execute_result"
    }
   ],
   "source": [
    "united.take(make_array(34,65,788))"
   ]
  },
  {
   "cell_type": "code",
   "execution_count": 12,
   "id": "8ad0398e",
   "metadata": {},
   "outputs": [
    {
     "data": {
      "text/html": [
       "<table border=\"1\" class=\"dataframe\">\n",
       "    <thead>\n",
       "        <tr>\n",
       "            <th>Date</th> <th>Flight Number</th> <th>Destination</th> <th>Delay</th>\n",
       "        </tr>\n",
       "    </thead>\n",
       "    <tbody>\n",
       "        <tr>\n",
       "            <td>6/7/15 </td> <td>824          </td> <td>JFK        </td> <td>-2   </td>\n",
       "        </tr>\n",
       "        <tr>\n",
       "            <td>6/14/15</td> <td>3            </td> <td>SAN        </td> <td>-4   </td>\n",
       "        </tr>\n",
       "        <tr>\n",
       "            <td>6/20/15</td> <td>1250         </td> <td>IAH        </td> <td>12   </td>\n",
       "        </tr>\n",
       "        <tr>\n",
       "            <td>6/27/15</td> <td>351          </td> <td>SEA        </td> <td>25   </td>\n",
       "        </tr>\n",
       "        <tr>\n",
       "            <td>7/4/15 </td> <td>361          </td> <td>LIH        </td> <td>-3   </td>\n",
       "        </tr>\n",
       "        <tr>\n",
       "            <td>7/10/15</td> <td>1710         </td> <td>LAX        </td> <td>42   </td>\n",
       "        </tr>\n",
       "        <tr>\n",
       "            <td>7/17/15</td> <td>864          </td> <td>RNO        </td> <td>-8   </td>\n",
       "        </tr>\n",
       "        <tr>\n",
       "            <td>7/23/15</td> <td>1937         </td> <td>IAH        </td> <td>7    </td>\n",
       "        </tr>\n",
       "        <tr>\n",
       "            <td>7/30/15</td> <td>1124         </td> <td>SEA        </td> <td>-10  </td>\n",
       "        </tr>\n",
       "        <tr>\n",
       "            <td>8/5/15 </td> <td>1927         </td> <td>IAH        </td> <td>16   </td>\n",
       "        </tr>\n",
       "        <tr>\n",
       "            <td>8/12/15</td> <td>734          </td> <td>ORD        </td> <td>-5   </td>\n",
       "        </tr>\n",
       "        <tr>\n",
       "            <td>8/18/15</td> <td>1756         </td> <td>BOS        </td> <td>15   </td>\n",
       "        </tr>\n",
       "        <tr>\n",
       "            <td>8/25/15</td> <td>1756         </td> <td>BOS        </td> <td>-3   </td>\n",
       "        </tr>\n",
       "    </tbody>\n",
       "</table>"
      ],
      "text/plain": [
       "<IPython.core.display.HTML object>"
      ]
     },
     "metadata": {},
     "output_type": "display_data"
    }
   ],
   "source": [
    "start = np.random.choice(np.arange(1000))\n",
    "systematic_sample = united.take(np.arange(start, united.num_rows,1000))\n",
    "systematic_sample.show()"
   ]
  },
  {
   "cell_type": "code",
   "execution_count": 13,
   "id": "e6f3ffb2",
   "metadata": {},
   "outputs": [
    {
     "data": {
      "text/html": [
       "<table border=\"1\" class=\"dataframe\">\n",
       "    <thead>\n",
       "        <tr>\n",
       "            <th>Face</th>\n",
       "        </tr>\n",
       "    </thead>\n",
       "    <tbody>\n",
       "        <tr>\n",
       "            <td>1   </td>\n",
       "        </tr>\n",
       "        <tr>\n",
       "            <td>2   </td>\n",
       "        </tr>\n",
       "        <tr>\n",
       "            <td>3   </td>\n",
       "        </tr>\n",
       "        <tr>\n",
       "            <td>4   </td>\n",
       "        </tr>\n",
       "        <tr>\n",
       "            <td>5   </td>\n",
       "        </tr>\n",
       "        <tr>\n",
       "            <td>6   </td>\n",
       "        </tr>\n",
       "    </tbody>\n",
       "</table>"
      ],
      "text/plain": [
       "Face\n",
       "1\n",
       "2\n",
       "3\n",
       "4\n",
       "5\n",
       "6"
      ]
     },
     "execution_count": 13,
     "metadata": {},
     "output_type": "execute_result"
    }
   ],
   "source": [
    "die = Table().with_column('Face',np.arange(1,7))\n",
    "die"
   ]
  },
  {
   "cell_type": "code",
   "execution_count": 14,
   "id": "749d71c4",
   "metadata": {},
   "outputs": [
    {
     "data": {
      "text/html": [
       "<table border=\"1\" class=\"dataframe\">\n",
       "    <thead>\n",
       "        <tr>\n",
       "            <th>Face</th>\n",
       "        </tr>\n",
       "    </thead>\n",
       "    <tbody>\n",
       "        <tr>\n",
       "            <td>2   </td>\n",
       "        </tr>\n",
       "        <tr>\n",
       "            <td>2   </td>\n",
       "        </tr>\n",
       "        <tr>\n",
       "            <td>1   </td>\n",
       "        </tr>\n",
       "        <tr>\n",
       "            <td>5   </td>\n",
       "        </tr>\n",
       "        <tr>\n",
       "            <td>3   </td>\n",
       "        </tr>\n",
       "        <tr>\n",
       "            <td>6   </td>\n",
       "        </tr>\n",
       "        <tr>\n",
       "            <td>5   </td>\n",
       "        </tr>\n",
       "        <tr>\n",
       "            <td>2   </td>\n",
       "        </tr>\n",
       "        <tr>\n",
       "            <td>4   </td>\n",
       "        </tr>\n",
       "        <tr>\n",
       "            <td>2   </td>\n",
       "        </tr>\n",
       "    </tbody>\n",
       "</table>"
      ],
      "text/plain": [
       "Face\n",
       "2\n",
       "2\n",
       "1\n",
       "5\n",
       "3\n",
       "6\n",
       "5\n",
       "2\n",
       "4\n",
       "2"
      ]
     },
     "execution_count": 14,
     "metadata": {},
     "output_type": "execute_result"
    }
   ],
   "source": [
    "die.sample(10)"
   ]
  },
  {
   "cell_type": "code",
   "execution_count": 15,
   "id": "5414d0a2",
   "metadata": {},
   "outputs": [
    {
     "data": {
      "image/png": "[encoded data removed]",
      "text/plain": [
       "<Figure size 432x288 with 1 Axes>"
      ]
     },
     "metadata": {},
     "output_type": "display_data"
    }
   ],
   "source": [
    "die.hist()"
   ]
  },
  {
   "cell_type": "code",
   "execution_count": 17,
   "id": "657175d9",
   "metadata": {},
   "outputs": [],
   "source": [
    "roll_bins = np.arange(0.5,6.6,1)"
   ]
  },
  {
   "cell_type": "code",
   "execution_count": 18,
   "id": "a53b7a4b",
   "metadata": {},
   "outputs": [
    {
     "data": {
      "image/png": "[encoded data removed]",
      "text/plain": [
       "<Figure size 432x288 with 1 Axes>"
      ]
     },
     "metadata": {},
     "output_type": "display_data"
    }
   ],
   "source": [
    "die.hist(bins=roll_bins)"
   ]
  },
  {
   "cell_type": "code",
   "execution_count": 22,
   "id": "d9b9b8eb",
   "metadata": {},
   "outputs": [
    {
     "data": {
      "image/png": "[encoded data removed]",
      "text/plain": [
       "<Figure size 432x288 with 1 Axes>"
      ]
     },
     "metadata": {},
     "output_type": "display_data"
    }
   ],
   "source": [
    "die.sample(10000).hist(bins=roll_bins)"
   ]
  },
  {
   "cell_type": "code",
   "execution_count": 23,
   "id": "9564eff7",
   "metadata": {},
   "outputs": [],
   "source": [
    "distribution_in_pop = make_array(0.9,0.1)"
   ]
  },
  {
   "cell_type": "code",
   "execution_count": 24,
   "id": "80709775",
   "metadata": {},
   "outputs": [
    {
     "data": {
      "text/plain": [
       "array([ 0.9,  0.1])"
      ]
     },
     "execution_count": 24,
     "metadata": {},
     "output_type": "execute_result"
    }
   ],
   "source": [
    "distribution_in_pop"
   ]
  },
  {
   "cell_type": "code",
   "execution_count": 30,
   "id": "7a4d9b33",
   "metadata": {},
   "outputs": [],
   "source": [
    "distribution_in_sample = sample_proportions(100,distribution_in_pop)"
   ]
  },
  {
   "cell_type": "code",
   "execution_count": 31,
   "id": "ef2b598e",
   "metadata": {},
   "outputs": [
    {
     "data": {
      "text/plain": [
       "array([ 0.88,  0.12])"
      ]
     },
     "execution_count": 31,
     "metadata": {},
     "output_type": "execute_result"
    }
   ],
   "source": [
    "distribution_in_sample"
   ]
  },
  {
   "cell_type": "code",
   "execution_count": 34,
   "id": "7f01910d",
   "metadata": {},
   "outputs": [],
   "source": [
    "united = Table.read_table('united.csv')\n",
    "united_bins = np.arange(-20, 201 , 5)"
   ]
  },
  {
   "cell_type": "code",
   "execution_count": 35,
   "id": "35342504",
   "metadata": {},
   "outputs": [
    {
     "data": {
      "image/png": "[encoded data removed]",
      "text/plain": [
       "<Figure size 432x288 with 1 Axes>"
      ]
     },
     "metadata": {},
     "output_type": "display_data"
    }
   ],
   "source": [
    "united.hist('Delay',bins = united_bins)"
   ]
  },
  {
   "cell_type": "code",
   "execution_count": 38,
   "id": "01b8cafc",
   "metadata": {},
   "outputs": [
    {
     "data": {
      "image/png": "[encoded data removed]",
      "text/plain": [
       "<Figure size 432x288 with 1 Axes>"
      ]
     },
     "metadata": {},
     "output_type": "display_data"
    }
   ],
   "source": [
    "united.sample(1000).hist('Delay',bins = united_bins)"
   ]
  },
  {
   "cell_type": "code",
   "execution_count": 39,
   "id": "d16ef021",
   "metadata": {},
   "outputs": [
    {
     "data": {
      "text/plain": [
       "2.0"
      ]
     },
     "execution_count": 39,
     "metadata": {},
     "output_type": "execute_result"
    }
   ],
   "source": [
    "np.median(united.column('Delay'))"
   ]
  },
  {
   "cell_type": "code",
   "execution_count": 40,
   "id": "33886631",
   "metadata": {},
   "outputs": [
    {
     "data": {
      "text/plain": [
       "11.5"
      ]
     },
     "execution_count": 40,
     "metadata": {},
     "output_type": "execute_result"
    }
   ],
   "source": [
    "np.median(united.sample(10).column('Delay'))"
   ]
  },
  {
   "cell_type": "code",
   "execution_count": 41,
   "id": "f5488690",
   "metadata": {},
   "outputs": [
    {
     "data": {
      "text/plain": [
       "2.0"
      ]
     },
     "execution_count": 41,
     "metadata": {},
     "output_type": "execute_result"
    }
   ],
   "source": [
    "np.median(united.sample(100).column(\"Delay\"))"
   ]
  },
  {
   "cell_type": "code",
   "execution_count": 42,
   "id": "9d0a0e99",
   "metadata": {},
   "outputs": [],
   "source": [
    "def sample_median(size):\n",
    "    return np.median(united.sample(size).column('Delay'))"
   ]
  },
  {
   "cell_type": "code",
   "execution_count": 43,
   "id": "92746520",
   "metadata": {},
   "outputs": [
    {
     "data": {
      "text/plain": [
       "-1.5"
      ]
     },
     "execution_count": 43,
     "metadata": {},
     "output_type": "execute_result"
    }
   ],
   "source": [
    "sample_median(10)"
   ]
  },
  {
   "cell_type": "code",
   "execution_count": 45,
   "id": "86e7cb1e",
   "metadata": {},
   "outputs": [],
   "source": [
    "num_simulations = 2000"
   ]
  },
  {
   "cell_type": "code",
   "execution_count": 6,
   "id": "634594d9",
   "metadata": {},
   "outputs": [],
   "source": [
    "sample_size = 100\n",
    "eligible = [0.26, 0.74]"
   ]
  },
  {
   "cell_type": "code",
   "execution_count": 6,
   "id": "42001e9d",
   "metadata": {},
   "outputs": [
    {
     "ename": "NameError",
     "evalue": "name 'sample_proportions' is not defined",
     "output_type": "error",
     "traceback": [
      "\u001b[1;31m---------------------------------------------------------------------------\u001b[0m",
      "\u001b[1;31mNameError\u001b[0m                                 Traceback (most recent call last)",
      "Input \u001b[1;32mIn [6]\u001b[0m, in \u001b[0;36m<cell line: 1>\u001b[1;34m()\u001b[0m\n\u001b[1;32m----> 1\u001b[0m \u001b[43msample_proportions\u001b[49m(sample_size, eligible)\u001b[38;5;241m.\u001b[39mitem(\u001b[38;5;241m0\u001b[39m)\n",
      "\u001b[1;31mNameError\u001b[0m: name 'sample_proportions' is not defined"
     ]
    }
   ],
   "source": [
    "sample_proportions(sample_size, eligible).item(0)"
   ]
  },
  {
   "cell_type": "code",
   "execution_count": 7,
   "id": "61314290",
   "metadata": {},
   "outputs": [],
   "source": [
    "def simulate_one_count():\n",
    "    return sample_size * sample_proportions(sample_size, eligible).item(0)"
   ]
  },
  {
   "cell_type": "code",
   "execution_count": 10,
   "id": "13912d23",
   "metadata": {},
   "outputs": [],
   "source": [
    "counts = make_array()\n",
    "for i in np.arange(10000):\n",
    "    counts = np.append(counts, simulate_one_count())"
   ]
  },
  {
   "cell_type": "code",
   "execution_count": 12,
   "id": "79f7e058",
   "metadata": {},
   "outputs": [
    {
     "data": {
      "image/png": "[encoded data removed]",
      "text/plain": [
       "<Figure size 432x288 with 1 Axes>"
      ]
     },
     "metadata": {},
     "output_type": "display_data"
    }
   ],
   "source": [
    "Table().with_column(\n",
    "    'Count in a Random Sample', counts\n",
    ").hist(bins = np.arange(5.5, 46.6, 1))\n",
    "plots.ylim(-0.002, 0.09)\n",
    "plots.scatter(8, 0, color='red', s=30);"
   ]
  },
  {
   "cell_type": "code",
   "execution_count": 13,
   "id": "440d1ca5",
   "metadata": {},
   "outputs": [
    {
     "data": {
      "text/html": [
       "<table border=\"1\" class=\"dataframe\">\n",
       "    <thead>\n",
       "        <tr>\n",
       "            <th>Ethnicity</th> <th>Eligible</th> <th>Panels</th>\n",
       "        </tr>\n",
       "    </thead>\n",
       "    <tbody>\n",
       "        <tr>\n",
       "            <td>Asian/PI </td> <td>0.15    </td> <td>0.26  </td>\n",
       "        </tr>\n",
       "        <tr>\n",
       "            <td>Black/AA </td> <td>0.18    </td> <td>0.08  </td>\n",
       "        </tr>\n",
       "        <tr>\n",
       "            <td>Caucasian</td> <td>0.54    </td> <td>0.54  </td>\n",
       "        </tr>\n",
       "        <tr>\n",
       "            <td>Hispanic </td> <td>0.12    </td> <td>0.08  </td>\n",
       "        </tr>\n",
       "        <tr>\n",
       "            <td>Other    </td> <td>0.01    </td> <td>0.04  </td>\n",
       "        </tr>\n",
       "    </tbody>\n",
       "</table>"
      ],
      "text/plain": [
       "Ethnicity | Eligible | Panels\n",
       "Asian/PI  | 0.15     | 0.26\n",
       "Black/AA  | 0.18     | 0.08\n",
       "Caucasian | 0.54     | 0.54\n",
       "Hispanic  | 0.12     | 0.08\n",
       "Other     | 0.01     | 0.04"
      ]
     },
     "execution_count": 13,
     "metadata": {},
     "output_type": "execute_result"
    }
   ],
   "source": [
    "jury = Table().with_columns(\n",
    "    'Ethnicity', make_array('Asian/PI', 'Black/AA', 'Caucasian', 'Hispanic', 'Other'),\n",
    "    'Eligible', make_array(0.15, 0.18, 0.54, 0.12, 0.01),\n",
    "    'Panels', make_array(0.26, 0.08, 0.54, 0.08, 0.04)\n",
    ")\n",
    "\n",
    "jury"
   ]
  },
  {
   "cell_type": "code",
   "execution_count": 14,
   "id": "ade908df",
   "metadata": {},
   "outputs": [
    {
     "data": {
      "image/png": "[encoded data removed]",
      "text/plain": [
       "<Figure size 432x288 with 1 Axes>"
      ]
     },
     "metadata": {},
     "output_type": "display_data"
    }
   ],
   "source": [
    "jury.barh('Ethnicity')"
   ]
  },
  {
   "cell_type": "code",
   "execution_count": 21,
   "id": "fc1a4af1",
   "metadata": {},
   "outputs": [
    {
     "data": {
      "text/html": [
       "<table border=\"1\" class=\"dataframe\">\n",
       "    <thead>\n",
       "        <tr>\n",
       "            <th>Ethnicity</th> <th>Eligible</th> <th>Panels</th> <th>Difference</th>\n",
       "        </tr>\n",
       "    </thead>\n",
       "    <tbody>\n",
       "        <tr>\n",
       "            <td>Asian/PI </td> <td>0.15    </td> <td>0.26  </td> <td>0.11      </td>\n",
       "        </tr>\n",
       "        <tr>\n",
       "            <td>Black/AA </td> <td>0.18    </td> <td>0.08  </td> <td>-0.1      </td>\n",
       "        </tr>\n",
       "        <tr>\n",
       "            <td>Caucasian</td> <td>0.54    </td> <td>0.54  </td> <td>0         </td>\n",
       "        </tr>\n",
       "        <tr>\n",
       "            <td>Hispanic </td> <td>0.12    </td> <td>0.08  </td> <td>-0.04     </td>\n",
       "        </tr>\n",
       "        <tr>\n",
       "            <td>Other    </td> <td>0.01    </td> <td>0.04  </td> <td>0.03      </td>\n",
       "        </tr>\n",
       "    </tbody>\n",
       "</table>"
      ],
      "text/plain": [
       "Ethnicity | Eligible | Panels | Difference\n",
       "Asian/PI  | 0.15     | 0.26   | 0.11\n",
       "Black/AA  | 0.18     | 0.08   | -0.1\n",
       "Caucasian | 0.54     | 0.54   | 0\n",
       "Hispanic  | 0.12     | 0.08   | -0.04\n",
       "Other     | 0.01     | 0.04   | 0.03"
      ]
     },
     "execution_count": 21,
     "metadata": {},
     "output_type": "execute_result"
    }
   ],
   "source": [
    "jury_with_diffs = jury.with_column(\n",
    "   'Difference',jury.column('Panels') - jury.column('Eligible')\n",
    ")\n",
    "jury_with_diffs"
   ]
  },
  {
   "cell_type": "code",
   "execution_count": 15,
   "id": "45de18b3",
   "metadata": {},
   "outputs": [],
   "source": [
    "eligible_population = jury.column('Eligible')"
   ]
  },
  {
   "cell_type": "code",
   "execution_count": 16,
   "id": "83237a7d",
   "metadata": {},
   "outputs": [
    {
     "data": {
      "text/plain": [
       "array([ 0.17343427,  0.16173434,  0.53337922,  0.12250516,  0.00894701])"
      ]
     },
     "execution_count": 16,
     "metadata": {},
     "output_type": "execute_result"
    }
   ],
   "source": [
    "sample_proportions(1453, eligible_population)"
   ]
  },
  {
   "cell_type": "code",
   "execution_count": 18,
   "id": "f7ff847b",
   "metadata": {},
   "outputs": [
    {
     "data": {
      "text/html": [
       "<table border=\"1\" class=\"dataframe\">\n",
       "    <thead>\n",
       "        <tr>\n",
       "            <th>Ethnicity</th> <th>Eligible</th> <th>Panels</th> <th>Random Sample</th>\n",
       "        </tr>\n",
       "    </thead>\n",
       "    <tbody>\n",
       "        <tr>\n",
       "            <td>Asian/PI </td> <td>0.15    </td> <td>0.26  </td> <td>0.14797      </td>\n",
       "        </tr>\n",
       "        <tr>\n",
       "            <td>Black/AA </td> <td>0.18    </td> <td>0.08  </td> <td>0.179628     </td>\n",
       "        </tr>\n",
       "        <tr>\n",
       "            <td>Caucasian</td> <td>0.54    </td> <td>0.54  </td> <td>0.551273     </td>\n",
       "        </tr>\n",
       "        <tr>\n",
       "            <td>Hispanic </td> <td>0.12    </td> <td>0.08  </td> <td>0.112182     </td>\n",
       "        </tr>\n",
       "        <tr>\n",
       "            <td>Other    </td> <td>0.01    </td> <td>0.04  </td> <td>0.00894701   </td>\n",
       "        </tr>\n",
       "    </tbody>\n",
       "</table>"
      ],
      "text/plain": [
       "Ethnicity | Eligible | Panels | Random Sample\n",
       "Asian/PI  | 0.15     | 0.26   | 0.14797\n",
       "Black/AA  | 0.18     | 0.08   | 0.179628\n",
       "Caucasian | 0.54     | 0.54   | 0.551273\n",
       "Hispanic  | 0.12     | 0.08   | 0.112182\n",
       "Other     | 0.01     | 0.04   | 0.00894701"
      ]
     },
     "execution_count": 18,
     "metadata": {},
     "output_type": "execute_result"
    }
   ],
   "source": [
    "sample_distribution = sample_proportions(1453 ,eligible_population)\n",
    "panel_and_sample = jury.with_column('Random Sample', sample_distribution)\n",
    "panel_and_sample"
   ]
  },
  {
   "cell_type": "code",
   "execution_count": 19,
   "id": "791f848f",
   "metadata": {},
   "outputs": [
    {
     "data": {
      "image/png": "[encoded data removed]",
      "text/plain": [
       "<Figure size 432x288 with 1 Axes>"
      ]
     },
     "metadata": {},
     "output_type": "display_data"
    }
   ],
   "source": [
    "panel_and_sample.barh('Ethnicity')"
   ]
  },
  {
   "cell_type": "code",
   "execution_count": 1,
   "id": "7f7ea54d",
   "metadata": {},
   "outputs": [],
   "source": [
    "mendel_pro = [0.75, 0.25]"
   ]
  },
  {
   "cell_type": "code",
   "execution_count": 2,
   "id": "466c0353",
   "metadata": {},
   "outputs": [],
   "source": [
    "sample_size = 929\n",
    "observed_count = 705\n",
    "observed_percent = 100 *observed_count/sample_size\n"
   ]
  },
  {
   "cell_type": "code",
   "execution_count": 3,
   "id": "91c457e3",
   "metadata": {},
   "outputs": [
    {
     "data": {
      "text/plain": [
       "75.8880516684607"
      ]
     },
     "execution_count": 3,
     "metadata": {},
     "output_type": "execute_result"
    }
   ],
   "source": [
    "observed_percent\n",
    "\n",
    "\n",
    "\n",
    "\n",
    "\n",
    "\n",
    "\n",
    "\n",
    "\n",
    "\n"
   ]
  },
  {
   "cell_type": "code",
   "execution_count": 4,
   "id": "d28315a2",
   "metadata": {},
   "outputs": [
    {
     "data": {
      "text/plain": [
       "0.8880516684607045"
      ]
     },
     "execution_count": 4,
     "metadata": {},
     "output_type": "execute_result"
    }
   ],
   "source": [
    "observed_distance = abs(observed_percent - 75)\n",
    "observed_distance"
   ]
  },
  {
   "cell_type": "code",
   "execution_count": 13,
   "id": "16b4ffc2",
   "metadata": {},
   "outputs": [
    {
     "data": {
      "image/png": "[encoded data removed]",
      "text/plain": [
       "<Figure size 432x288 with 1 Axes>"
      ]
     },
     "metadata": {},
     "output_type": "display_data"
    }
   ],
   "source": [
    "Table().with_column(\n",
    "    'Distance between Sample % and 75%', observed_distance\n",
    ").hist()\n",
    "plots.ylim(-0.02, 0.5)\n",
    "plots.title('Prediction Made by the Null Hypothesis')\n",
    "plots.scatter(observed_distance, 0, color='red', s=40);"
   ]
  },
  {
   "cell_type": "code",
   "execution_count": 6,
   "id": "00cdb97b",
   "metadata": {},
   "outputs": [],
   "source": [
    "births = Table().read_table('baby.csv')"
   ]
  },
  {
   "cell_type": "code",
   "execution_count": 8,
   "id": "b37486c2",
   "metadata": {},
   "outputs": [
    {
     "data": {
      "text/html": [
       "<table border=\"1\" class=\"dataframe\">\n",
       "    <thead>\n",
       "        <tr>\n",
       "            <th>Birth Weight</th> <th>Gestational Days</th> <th>Maternal Age</th> <th>Maternal Height</th> <th>Maternal Pregnancy Weight</th> <th>Maternal Smoker</th>\n",
       "        </tr>\n",
       "    </thead>\n",
       "    <tbody>\n",
       "        <tr>\n",
       "            <td>120         </td> <td>284             </td> <td>27          </td> <td>62             </td> <td>100                      </td> <td>False          </td>\n",
       "        </tr>\n",
       "        <tr>\n",
       "            <td>113         </td> <td>282             </td> <td>33          </td> <td>64             </td> <td>135                      </td> <td>False          </td>\n",
       "        </tr>\n",
       "        <tr>\n",
       "            <td>128         </td> <td>279             </td> <td>28          </td> <td>64             </td> <td>115                      </td> <td>True           </td>\n",
       "        </tr>\n",
       "        <tr>\n",
       "            <td>108         </td> <td>282             </td> <td>23          </td> <td>67             </td> <td>125                      </td> <td>True           </td>\n",
       "        </tr>\n",
       "        <tr>\n",
       "            <td>136         </td> <td>286             </td> <td>25          </td> <td>62             </td> <td>93                       </td> <td>False          </td>\n",
       "        </tr>\n",
       "        <tr>\n",
       "            <td>138         </td> <td>244             </td> <td>33          </td> <td>62             </td> <td>178                      </td> <td>False          </td>\n",
       "        </tr>\n",
       "        <tr>\n",
       "            <td>132         </td> <td>245             </td> <td>23          </td> <td>65             </td> <td>140                      </td> <td>False          </td>\n",
       "        </tr>\n",
       "        <tr>\n",
       "            <td>120         </td> <td>289             </td> <td>25          </td> <td>62             </td> <td>125                      </td> <td>False          </td>\n",
       "        </tr>\n",
       "        <tr>\n",
       "            <td>143         </td> <td>299             </td> <td>30          </td> <td>66             </td> <td>136                      </td> <td>True           </td>\n",
       "        </tr>\n",
       "        <tr>\n",
       "            <td>140         </td> <td>351             </td> <td>27          </td> <td>68             </td> <td>120                      </td> <td>False          </td>\n",
       "        </tr>\n",
       "    </tbody>\n",
       "</table>\n",
       "<p>... (1164 rows omitted)</p>"
      ],
      "text/plain": [
       "Birth Weight | Gestational Days | Maternal Age | Maternal Height | Maternal Pregnancy Weight | Maternal Smoker\n",
       "120          | 284              | 27           | 62              | 100                       | False\n",
       "113          | 282              | 33           | 64              | 135                       | False\n",
       "128          | 279              | 28           | 64              | 115                       | True\n",
       "108          | 282              | 23           | 67              | 125                       | True\n",
       "136          | 286              | 25           | 62              | 93                        | False\n",
       "138          | 244              | 33           | 62              | 178                       | False\n",
       "132          | 245              | 23           | 65              | 140                       | False\n",
       "120          | 289              | 25           | 62              | 125                       | False\n",
       "143          | 299              | 30           | 66              | 136                       | True\n",
       "140          | 351              | 27           | 68              | 120                       | False\n",
       "... (1164 rows omitted)"
      ]
     },
     "execution_count": 8,
     "metadata": {},
     "output_type": "execute_result"
    }
   ],
   "source": [
    "births"
   ]
  },
  {
   "cell_type": "code",
   "execution_count": 4,
   "id": "55bc4df1",
   "metadata": {},
   "outputs": [],
   "source": [
    "smoking_and_birthweight =births.select('Maternal Smoker','Birth Weight')"
   ]
  },
  {
   "cell_type": "code",
   "execution_count": 5,
   "id": "89f4116f",
   "metadata": {},
   "outputs": [
    {
     "data": {
      "text/html": [
       "<table border=\"1\" class=\"dataframe\">\n",
       "    <thead>\n",
       "        <tr>\n",
       "            <th>Maternal Smoker</th> <th>count</th>\n",
       "        </tr>\n",
       "    </thead>\n",
       "    <tbody>\n",
       "        <tr>\n",
       "            <td>False          </td> <td>715  </td>\n",
       "        </tr>\n",
       "        <tr>\n",
       "            <td>True           </td> <td>459  </td>\n",
       "        </tr>\n",
       "    </tbody>\n",
       "</table>"
      ],
      "text/plain": [
       "Maternal Smoker | count\n",
       "False           | 715\n",
       "True            | 459"
      ]
     },
     "execution_count": 5,
     "metadata": {},
     "output_type": "execute_result"
    }
   ],
   "source": [
    "smoking_and_birthweight.group('Maternal Smoker')"
   ]
  },
  {
   "cell_type": "code",
   "execution_count": 6,
   "id": "23abde1d",
   "metadata": {},
   "outputs": [
    {
     "data": {
      "image/png": "[encoded data removed]",
      "text/plain": [
       "<Figure size 432x288 with 1 Axes>"
      ]
     },
     "metadata": {},
     "output_type": "display_data"
    }
   ],
   "source": [
    "smoking_and_birthweight.hist('Birth Weight',group='Maternal Smoker')"
   ]
  },
  {
   "cell_type": "code",
   "execution_count": 7,
   "id": "5240db39",
   "metadata": {},
   "outputs": [],
   "source": [
    "means_table = smoking_and_birthweight.group('Maternal Smoker',np.average)"
   ]
  },
  {
   "cell_type": "code",
   "execution_count": 8,
   "id": "95c08de9",
   "metadata": {},
   "outputs": [
    {
     "data": {
      "text/html": [
       "<table border=\"1\" class=\"dataframe\">\n",
       "    <thead>\n",
       "        <tr>\n",
       "            <th>Maternal Smoker</th> <th>Birth Weight average</th>\n",
       "        </tr>\n",
       "    </thead>\n",
       "    <tbody>\n",
       "        <tr>\n",
       "            <td>False          </td> <td>123.085             </td>\n",
       "        </tr>\n",
       "        <tr>\n",
       "            <td>True           </td> <td>113.819             </td>\n",
       "        </tr>\n",
       "    </tbody>\n",
       "</table>"
      ],
      "text/plain": [
       "Maternal Smoker | Birth Weight average\n",
       "False           | 123.085\n",
       "True            | 113.819"
      ]
     },
     "execution_count": 8,
     "metadata": {},
     "output_type": "execute_result"
    }
   ],
   "source": [
    "means_table"
   ]
  },
  {
   "cell_type": "code",
   "execution_count": 10,
   "id": "df1b7543",
   "metadata": {},
   "outputs": [
    {
     "data": {
      "text/plain": [
       "-9.266142572024918"
      ]
     },
     "execution_count": 10,
     "metadata": {},
     "output_type": "execute_result"
    }
   ],
   "source": [
    "means = means_table.column(1)\n",
    "observed_difference = means.item(1)-means.item(0)\n",
    "observed_difference"
   ]
  },
  {
   "cell_type": "code",
   "execution_count": 11,
   "id": "a20120a5",
   "metadata": {},
   "outputs": [],
   "source": [
    "def difference_of_means(table,group_label):\n",
    "    \"\"\"Takes : name of table,\n",
    "    column label thet indicate which group,\n",
    "    two groups\"\"\"\n",
    "    reduced = table.select('Birth Weight', group_label)\n",
    "    \n",
    "    means_table = reduced.group(group_label,np.average)\n",
    "    \n",
    "    means = means_table.column('Birth Weight average')\n",
    "    \n",
    "    return means.item(1)-means.item(0)"
   ]
  },
  {
   "cell_type": "code",
   "execution_count": 12,
   "id": "67be7082",
   "metadata": {},
   "outputs": [
    {
     "data": {
      "text/plain": [
       "-9.266142572024918"
      ]
     },
     "execution_count": 12,
     "metadata": {},
     "output_type": "execute_result"
    }
   ],
   "source": [
    "difference_of_means(births,'Maternal Smoker')"
   ]
  },
  {
   "cell_type": "code",
   "execution_count": 30,
   "id": "776c750c",
   "metadata": {},
   "outputs": [],
   "source": [
    "staff = Table().with_columns(\n",
    "     'Names',make_array('Jim','Pam','Dwight','Michel'),\n",
    "     'Ages', make_array(29,28,34,41)\n",
    ")"
   ]
  },
  {
   "cell_type": "code",
   "execution_count": 16,
   "id": "b05d171f",
   "metadata": {},
   "outputs": [
    {
     "data": {
      "text/html": [
       "<table border=\"1\" class=\"dataframe\">\n",
       "    <thead>\n",
       "        <tr>\n",
       "            <th>Names</th> <th>Ages</th>\n",
       "        </tr>\n",
       "    </thead>\n",
       "    <tbody>\n",
       "        <tr>\n",
       "            <td>Jim   </td> <td>29  </td>\n",
       "        </tr>\n",
       "        <tr>\n",
       "            <td>Pam   </td> <td>28  </td>\n",
       "        </tr>\n",
       "        <tr>\n",
       "            <td>Dwight</td> <td>34  </td>\n",
       "        </tr>\n",
       "        <tr>\n",
       "            <td>Michel</td> <td>41  </td>\n",
       "        </tr>\n",
       "    </tbody>\n",
       "</table>"
      ],
      "text/plain": [
       "Names  | Ages\n",
       "Jim    | 29\n",
       "Pam    | 28\n",
       "Dwight | 34\n",
       "Michel | 41"
      ]
     },
     "execution_count": 16,
     "metadata": {},
     "output_type": "execute_result"
    }
   ],
   "source": [
    "staff"
   ]
  },
  {
   "cell_type": "code",
   "execution_count": 17,
   "id": "95866d41",
   "metadata": {},
   "outputs": [
    {
     "data": {
      "text/html": [
       "<table border=\"1\" class=\"dataframe\">\n",
       "    <thead>\n",
       "        <tr>\n",
       "            <th>Names</th> <th>Ages</th>\n",
       "        </tr>\n",
       "    </thead>\n",
       "    <tbody>\n",
       "        <tr>\n",
       "            <td>Michel</td> <td>41  </td>\n",
       "        </tr>\n",
       "        <tr>\n",
       "            <td>Jim   </td> <td>29  </td>\n",
       "        </tr>\n",
       "        <tr>\n",
       "            <td>Michel</td> <td>41  </td>\n",
       "        </tr>\n",
       "        <tr>\n",
       "            <td>Jim   </td> <td>29  </td>\n",
       "        </tr>\n",
       "    </tbody>\n",
       "</table>"
      ],
      "text/plain": [
       "Names  | Ages\n",
       "Michel | 41\n",
       "Jim    | 29\n",
       "Michel | 41\n",
       "Jim    | 29"
      ]
     },
     "execution_count": 17,
     "metadata": {},
     "output_type": "execute_result"
    }
   ],
   "source": [
    "staff.sample()"
   ]
  },
  {
   "cell_type": "code",
   "execution_count": 18,
   "id": "292fedb4",
   "metadata": {},
   "outputs": [
    {
     "data": {
      "text/html": [
       "<table border=\"1\" class=\"dataframe\">\n",
       "    <thead>\n",
       "        <tr>\n",
       "            <th>Names</th> <th>Ages</th>\n",
       "        </tr>\n",
       "    </thead>\n",
       "    <tbody>\n",
       "        <tr>\n",
       "            <td>Michel</td> <td>41  </td>\n",
       "        </tr>\n",
       "        <tr>\n",
       "            <td>Pam   </td> <td>28  </td>\n",
       "        </tr>\n",
       "        <tr>\n",
       "            <td>Dwight</td> <td>34  </td>\n",
       "        </tr>\n",
       "        <tr>\n",
       "            <td>Jim   </td> <td>29  </td>\n",
       "        </tr>\n",
       "    </tbody>\n",
       "</table>"
      ],
      "text/plain": [
       "Names  | Ages\n",
       "Michel | 41\n",
       "Pam    | 28\n",
       "Dwight | 34\n",
       "Jim    | 29"
      ]
     },
     "execution_count": 18,
     "metadata": {},
     "output_type": "execute_result"
    }
   ],
   "source": [
    "staff.sample(with_replacement = False)"
   ]
  },
  {
   "cell_type": "code",
   "execution_count": 27,
   "id": "88d92c3b",
   "metadata": {},
   "outputs": [
    {
     "data": {
      "text/html": [
       "<table border=\"1\" class=\"dataframe\">\n",
       "    <thead>\n",
       "        <tr>\n",
       "            <th>Names</th> <th>Ages</th> <th>Shuffled</th>\n",
       "        </tr>\n",
       "    </thead>\n",
       "    <tbody>\n",
       "        <tr>\n",
       "            <td>Jim   </td> <td>29  </td> <td>Pam     </td>\n",
       "        </tr>\n",
       "        <tr>\n",
       "            <td>Pam   </td> <td>28  </td> <td>Dwight  </td>\n",
       "        </tr>\n",
       "        <tr>\n",
       "            <td>Dwight</td> <td>34  </td> <td>Jim     </td>\n",
       "        </tr>\n",
       "        <tr>\n",
       "            <td>Michel</td> <td>41  </td> <td>Michel  </td>\n",
       "        </tr>\n",
       "    </tbody>\n",
       "</table>"
      ],
      "text/plain": [
       "Names  | Ages | Shuffled\n",
       "Jim    | 29   | Pam\n",
       "Pam    | 28   | Dwight\n",
       "Dwight | 34   | Jim\n",
       "Michel | 41   | Michel"
      ]
     },
     "execution_count": 27,
     "metadata": {},
     "output_type": "execute_result"
    }
   ],
   "source": [
    "shuffled_names = staff.sample(with_replacement = False).column('Names')\n",
    "staff.with_column('Shuffled',shuffled_names)"
   ]
  },
  {
   "cell_type": "code",
   "execution_count": 20,
   "id": "3556da92",
   "metadata": {},
   "outputs": [
    {
     "data": {
      "text/html": [
       "<table border=\"1\" class=\"dataframe\">\n",
       "    <thead>\n",
       "        <tr>\n",
       "            <th>Maternal Smoker</th> <th>Birth Weight</th>\n",
       "        </tr>\n",
       "    </thead>\n",
       "    <tbody>\n",
       "        <tr>\n",
       "            <td>False          </td> <td>120         </td>\n",
       "        </tr>\n",
       "        <tr>\n",
       "            <td>False          </td> <td>113         </td>\n",
       "        </tr>\n",
       "        <tr>\n",
       "            <td>True           </td> <td>128         </td>\n",
       "        </tr>\n",
       "        <tr>\n",
       "            <td>True           </td> <td>108         </td>\n",
       "        </tr>\n",
       "        <tr>\n",
       "            <td>False          </td> <td>136         </td>\n",
       "        </tr>\n",
       "        <tr>\n",
       "            <td>False          </td> <td>138         </td>\n",
       "        </tr>\n",
       "        <tr>\n",
       "            <td>False          </td> <td>132         </td>\n",
       "        </tr>\n",
       "        <tr>\n",
       "            <td>False          </td> <td>120         </td>\n",
       "        </tr>\n",
       "        <tr>\n",
       "            <td>True           </td> <td>143         </td>\n",
       "        </tr>\n",
       "        <tr>\n",
       "            <td>False          </td> <td>140         </td>\n",
       "        </tr>\n",
       "    </tbody>\n",
       "</table>\n",
       "<p>... (1164 rows omitted)</p>"
      ],
      "text/plain": [
       "Maternal Smoker | Birth Weight\n",
       "False           | 120\n",
       "False           | 113\n",
       "True            | 128\n",
       "True            | 108\n",
       "False           | 136\n",
       "False           | 138\n",
       "False           | 132\n",
       "False           | 120\n",
       "True            | 143\n",
       "False           | 140\n",
       "... (1164 rows omitted)"
      ]
     },
     "execution_count": 20,
     "metadata": {},
     "output_type": "execute_result"
    }
   ],
   "source": [
    "smoking_and_birthweight"
   ]
  },
  {
   "cell_type": "code",
   "execution_count": null,
   "id": "55c2e2a6",
   "metadata": {},
   "outputs": [],
   "source": []
  }
 ],
 "metadata": {
  "kernelspec": {
   "display_name": "Python 3 (ipykernel)",
   "language": "python",
   "name": "python3"
  },
  "language_info": {
   "codemirror_mode": {
    "name": "ipython",
    "version": 3
   },
   "file_extension": ".py",
   "mimetype": "text/x-python",
   "name": "python",
   "nbconvert_exporter": "python",
   "pygments_lexer": "ipython3",
   "version": "3.9.12"
  }
 },
 "nbformat": 4,
 "nbformat_minor": 5
}
